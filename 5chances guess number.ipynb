{
 "cells": [
  {
   "cell_type": "code",
   "execution_count": 6,
   "metadata": {},
   "outputs": [
    {
     "name": "stdout",
     "output_type": "stream",
     "text": [
      "mine is smaller\n",
      "mine is smaller\n",
      "mine is smaller\n",
      "WOW fereshteh That's it, 2 you made it\n"
     ]
    }
   ],
   "source": [
    "import random\n",
    "answer = random. randint(1,10)\n",
    "name= input(\"what is your name?:\")\n",
    "guesscount=0\n",
    "\n",
    "while answer != guess and guesscount < 5:\n",
    "    guess = int(input(\"guess a number from1 to 10, you have only 5 chances\"))\n",
    "    guesscount += 1\n",
    "\n",
    "    if answer > guess:\n",
    "        print(\"mine is bigger\")\n",
    "    elif answer < guess:\n",
    "        print(\"mine is smaller\")\n",
    "        \n",
    "if answer == guess:\n",
    "        \n",
    "        print(\"WOW\", name, \"That's it,\", answer, \"you made it\")\n",
    "else:\n",
    "        print(name,\"sorry,you did'nt not guess the number, it was\", answer)"
   ]
  }
 ],
 "metadata": {
  "interpreter": {
   "hash": "b3ba2566441a7c06988d0923437866b63cedc61552a5af99d1f4fb67d367b25f"
  },
  "kernelspec": {
   "display_name": "Python 3.8.8 64-bit ('base': conda)",
   "language": "python",
   "name": "python3"
  },
  "language_info": {
   "codemirror_mode": {
    "name": "ipython",
    "version": 3
   },
   "file_extension": ".py",
   "mimetype": "text/x-python",
   "name": "python",
   "nbconvert_exporter": "python",
   "pygments_lexer": "ipython3",
   "version": "3.8.8"
  },
  "orig_nbformat": 4
 },
 "nbformat": 4,
 "nbformat_minor": 2
}
